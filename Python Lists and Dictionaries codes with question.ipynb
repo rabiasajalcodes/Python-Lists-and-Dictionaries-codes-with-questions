{
  "nbformat": 4,
  "nbformat_minor": 0,
  "metadata": {
    "colab": {
      "provenance": []
    },
    "kernelspec": {
      "name": "python3",
      "display_name": "Python 3"
    },
    "language_info": {
      "name": "python"
    }
  },
  "cells": [
    {
      "cell_type": "markdown",
      "source": [
        "#task1\n",
        "Given an int count of a number of chickens, return a string of the\n",
        "form &#39;Number of chickens: &lt;count&gt;&#39;, where &lt;count&gt; is the number passed in. However, if\n",
        "the count is 10 or more, then use the word &#39;many&#39; instead of the actual count. So\n",
        "chickens(5) returns &#39;Number of chickens: 5&#39; and chickens(23) returns &#39;Number of\n",
        "chickens: many&#39;.**bold text**"
      ],
      "metadata": {
        "id": "fZhb5eNnm-AI"
      }
    },
    {
      "cell_type": "code",
      "execution_count": null,
      "metadata": {
        "id": "gS0gWmSfQf3Q",
        "outputId": "1698f7e9-d571-4abb-e6d4-eebba7c9632a",
        "colab": {
          "base_uri": "https://localhost:8080/"
        }
      },
      "outputs": [
        {
          "output_type": "stream",
          "name": "stdout",
          "text": [
            "Number of chickens: 5\n",
            "Number of chickens: many\n"
          ]
        }
      ],
      "source": [
        "#task1\n",
        "def chickens(count):\n",
        "    if count >= 10:\n",
        "        return \"Number of chickens: many\"\n",
        "    else:\n",
        "        return f\"Number of chickens: {count}\"\n",
        "\n",
        "print(chickens(5))\n",
        "print(chickens(23))\n"
      ]
    },
    {
      "cell_type": "markdown",
      "source": [
        "#task2 Strings from both ends\n",
        "\n",
        "Create a string made of the first three and the last three characters\n",
        "of the original string s and return the new string, so &#39;intelligence&#39; creates &#39;intcne&#39;.\n",
        "However, if the string length is less than 3, return instead the empty string."
      ],
      "metadata": {
        "id": "O3bkIITsoFpH"
      }
    },
    {
      "cell_type": "code",
      "source": [
        "#task2\n",
        "def stringreturn(string):\n",
        "  if len(string)< 3 :F\n",
        "    return \" \"\n",
        "  else:\n",
        "    return string[:3]+string[-3:]\n",
        "\n",
        "print(stringreturn(\"intelligence\"))"
      ],
      "metadata": {
        "id": "Gd4ZoGY4QrxV",
        "outputId": "35d9c9a6-5ff4-4ec8-d274-7d9b646e2d28",
        "colab": {
          "base_uri": "https://localhost:8080/"
        }
      },
      "execution_count": null,
      "outputs": [
        {
          "output_type": "stream",
          "name": "stdout",
          "text": [
            "intnce\n"
          ]
        }
      ]
    },
    {
      "cell_type": "markdown",
      "source": [
        "# task3 occurrences of first character\n",
        "\n",
        "For a given string s, create a new string such that it replaces some\n",
        "characters of the string with &#39;@&#39;. To replace, find the first character of the given string s.\n",
        "Now find all occurrences of this first character in the string and replace them with &#39;@&#39;. Do\n",
        "not change the first character itself.\n",
        "\n",
        "e.g. &#39;Ooogle&#39; create &#39;O@@gle&#39;\n",
        "Assume that the string is length 1 or more and take care of the\n",
        "\n",
        "word case.\n",
        "\n",
        "Hint: s.replace(stra, strb) returns a version of string s where all\n",
        "\n",
        "instances of stra have been replaced by strb."
      ],
      "metadata": {
        "id": "lsr0cn1qqGSm"
      }
    },
    {
      "cell_type": "code",
      "source": [
        "#task3"
      ],
      "metadata": {
        "id": "RNgp7rsGQr0b"
      },
      "execution_count": null,
      "outputs": []
    },
    {
      "cell_type": "code",
      "source": [
        "def replace_occurrences(s):\n",
        "\n",
        "    first_char = s[0]\n",
        "\n",
        "    new_string = first_char + s[1:].replace(first_char,\"@\")\n",
        "    return new_string\n",
        "\n",
        "\n",
        "print(replace_occurrences(\"OOOgle\"))\n",
        "print(replace_occurrences(\"banana\"))\n",
        "print(replace_occurrences(\"apple\"))\n"
      ],
      "metadata": {
        "id": "D02cin6AqCEt",
        "outputId": "a3016f59-b50d-428d-c18d-8fcf790c89a7",
        "colab": {
          "base_uri": "https://localhost:8080/"
        }
      },
      "execution_count": null,
      "outputs": [
        {
          "output_type": "stream",
          "name": "stdout",
          "text": [
            "O@@gle\n",
            "banana\n",
            "apple\n"
          ]
        }
      ]
    },
    {
      "cell_type": "markdown",
      "source": [
        "Task 4 String jumble\n",
        "\n",
        "Create a new string with the help of two input strings a and b. The\n",
        "new string should be separated by a space b/w a and b. Also swap the first 2 chars of each\n",
        "string and return it. e.g.\n",
        "\n",
        "&#39;mix&#39;, pod&#39; -&gt; &#39;pox mid&#39;\n",
        "&#39;dog&#39;, &#39;dinner&#39; -&gt; &#39;dig donner&#39;"
      ],
      "metadata": {
        "id": "Lfso2rQsrFe1"
      }
    },
    {
      "cell_type": "code",
      "source": [
        "#task4\n",
        "def string_jumble(a, b):\n",
        "    if len(a) < 2 or len(b) < 2:\n",
        "        return \"Both strings must be at least 2 characters long.\"\n",
        "\n",
        "    new_a = b[:2] + a[2:]\n",
        "    new_b = a[:2] + b[2:]\n",
        "    return new_a + \" \" + new_b\n",
        "\n",
        "print(string_jumble(\"mix\", \"pod\"))\n",
        "print(string_jumble(\"dog\", \"dinner\"))\n",
        "print(string_jumble(\"hi\", \"there\"))\n"
      ],
      "metadata": {
        "id": "SlYz35wbQr3Z",
        "outputId": "f13f113f-2acb-4e59-fe72-1c58e6988503",
        "colab": {
          "base_uri": "https://localhost:8080/"
        }
      },
      "execution_count": null,
      "outputs": [
        {
          "output_type": "stream",
          "name": "stdout",
          "text": [
            "pox mid\n",
            "dig donner\n",
            "th hiere\n"
          ]
        }
      ]
    },
    {
      "cell_type": "markdown",
      "source": [],
      "metadata": {
        "id": "aw9p2dVRsktX"
      }
    },
    {
      "cell_type": "markdown",
      "source": [
        "Task 5 Matching first and last characters\n",
        "\n",
        "Taking a list of strings as input, our matching function returns the\n",
        "count of the number of strings whose first and last chars of the string are the same.\n",
        "Also, only consider strings with length of 2 or more."
      ],
      "metadata": {
        "id": "0IotCKgPskuN"
      }
    },
    {
      "cell_type": "code",
      "source": [
        "#task5\n",
        "def matching_first_last(strings):\n",
        "    count = 0\n",
        "    for string in strings:\n",
        "        if len(string) >= 2 and string[0] == string[-1]:\n",
        "            count += 1\n",
        "    return count\n",
        "\n",
        "\n",
        "strings_list = [\"level\", \"hello\", \"radar\", \"world\", \"refer\", \"noon\"]\n",
        "print(matching_first_last(strings_list))\n"
      ],
      "metadata": {
        "id": "8Qkn4Ni6Qr6k",
        "outputId": "f2e7f5cd-072e-4140-ac65-6516e824702b",
        "colab": {
          "base_uri": "https://localhost:8080/"
        }
      },
      "execution_count": null,
      "outputs": [
        {
          "output_type": "stream",
          "name": "stdout",
          "text": [
            "4\n"
          ]
        }
      ]
    },
    {
      "cell_type": "markdown",
      "source": [
        "task 6 Group strings in a list\n",
        "\n",
        "Given a list of strings, return a list with the strings in sorted order,\n",
        "\n",
        "except group all the strings that begin with &#39;a&#39; first.\n",
        "\n",
        "e.g. [&#39;mix&#39;, &#39;xyz&#39;, &#39;apple&#39;, &#39;xanadu&#39;, &#39;aardvark&#39;] creates [&#39;aardvark&#39;,\n",
        "\n",
        "&#39;apple&#39;, &#39;mix&#39;, &#39;xanadu&#39;, &#39;xyz&#39;]"
      ],
      "metadata": {
        "id": "Fh06xN27sx7f"
      }
    },
    {
      "cell_type": "code",
      "source": [
        "#task6\n",
        "def group_and_sort_strings(strings):\n",
        "\n",
        "    a_strings = [s for s in strings if s.startswith('a')]\n",
        "    other_strings = [s for s in strings if not s.startswith('a')]\n",
        "\n",
        "\n",
        "    a_strings.sort()\n",
        "    other_strings.sort()\n",
        "\n",
        "\n",
        "    return a_strings + other_strings\n",
        "\n",
        "\n",
        "strings_list = ['mix', 'xyz', 'apple', 'xanadu', 'aardvark']\n",
        "print(group_and_sort_strings(strings_list))\n"
      ],
      "metadata": {
        "id": "t-fc5zOhQr9h",
        "outputId": "ae2276e2-5e3b-4a2c-cae7-cdc808db49ab",
        "colab": {
          "base_uri": "https://localhost:8080/"
        }
      },
      "execution_count": null,
      "outputs": [
        {
          "output_type": "stream",
          "name": "stdout",
          "text": [
            "['aardvark', 'apple', 'mix', 'xanadu', 'xyz']\n"
          ]
        }
      ]
    },
    {
      "cell_type": "markdown",
      "source": [
        "#Task7\n",
        "Sort tuple by last element\n",
        "\n",
        "Given a list of non-empty tuples, return a list sorted in increasing\n",
        "\n",
        "order by the last element in each tuple.\n",
        "\n",
        "e.g. [(1, 7), (1, 3), (3, 4, 5), (2, 2)] creates [(2, 2), (1, 3), (3, 4, 5),\n",
        "\n",
        "(1, 7)]\n",
        "\n",
        "Hint: use a custom key= function to extract the last element form\n",
        "\n",
        "each tuple."
      ],
      "metadata": {
        "id": "WsT5KapltEYn"
      }
    },
    {
      "cell_type": "code",
      "source": [
        "#task7\n",
        "def sort_by_last_element(tuples):\n",
        "\n",
        "    return sorted(tuples, key=lambda x: x[-1])\n",
        "\n",
        "\n",
        "tuples_list = [(1, 7), (1, 3), (3, 4, 5), (2, 2)]\n",
        "print(sort_by_last_element(tuples_list))\n"
      ],
      "metadata": {
        "id": "fAtgB1LTQsAY",
        "outputId": "780d7e6c-1aec-49dc-d5c8-c5f43d41cfaa",
        "colab": {
          "base_uri": "https://localhost:8080/"
        }
      },
      "execution_count": null,
      "outputs": [
        {
          "output_type": "stream",
          "name": "stdout",
          "text": [
            "[(2, 2), (1, 3), (3, 4, 5), (1, 7)]\n"
          ]
        }
      ]
    },
    {
      "cell_type": "code",
      "source": [
        "#task8\n",
        "def is_palindrome(s):\n",
        "\n",
        "    s = s.replace(\" \", \"\").lower()\n",
        "\n",
        "    return s == s[::-1]\n",
        "\n",
        "\n",
        "print(is_palindrome(\"racecar\"))\n",
        "print(is_palindrome(\"hello\"))\n",
        "print(is_palindrome(\"A man a plan a canal Panama\"))\n"
      ],
      "metadata": {
        "id": "9kgEM3M-QsDR",
        "outputId": "e9b04005-c611-4ba5-8d93-634995a0b9c8",
        "colab": {
          "base_uri": "https://localhost:8080/"
        }
      },
      "execution_count": null,
      "outputs": [
        {
          "output_type": "stream",
          "name": "stdout",
          "text": [
            "True\n",
            "False\n",
            "True\n"
          ]
        }
      ]
    },
    {
      "cell_type": "markdown",
      "source": [
        "Task 9 List Flattening\n",
        "\n",
        "Given a nested list of integers, create a function to flatten the list\n",
        "to a single-level list. For example, [[1, 2, 3], [4, 5]] will be flattened to [1, 2, 3, 4, 5]."
      ],
      "metadata": {
        "id": "yV8EBR1et0FX"
      }
    },
    {
      "cell_type": "code",
      "source": [
        "#task9\n",
        "def flatten_list(nested_list):\n",
        "    flat_list = []\n",
        "\n",
        "    for sublist in nested_list:\n",
        "\n",
        "        flat_list.extend(sublist)\n",
        "    return flat_list\n",
        "\n",
        "\n",
        "nested_list = [[1, 2, 3], [4, 5], [6, 7, 8, 9]]\n",
        "print(flatten_list(nested_list))\n"
      ],
      "metadata": {
        "id": "vhSMWzR8QsGC",
        "outputId": "864c662a-bd72-4b77-9722-b7793c9ee713",
        "colab": {
          "base_uri": "https://localhost:8080/"
        }
      },
      "execution_count": null,
      "outputs": [
        {
          "output_type": "stream",
          "name": "stdout",
          "text": [
            "[1, 2, 3, 4, 5, 6, 7, 8, 9]\n"
          ]
        }
      ]
    },
    {
      "cell_type": "markdown",
      "source": [
        "Task 10 List Intersection\n",
        "\n",
        "Given two lists of integers, create a function to return a list that\n",
        "contains only the elements that are common between the two lists (without duplicates).\n",
        "Make sure your program works with lists of different sizes."
      ],
      "metadata": {
        "id": "C8_4SR-at632"
      }
    },
    {
      "cell_type": "code",
      "source": [
        "#task10\n",
        "def list_intersection(list1, list2):\n",
        "\n",
        "    common_elements = list(set(list1) & set(list2))\n",
        "    return common_elements\n",
        "\n",
        "\n",
        "list1 = [1, 2, 2, 3, 4]\n",
        "list2 = [2, 4, 4, 5, 6]\n",
        "print(list_intersection(list1, list2))\n"
      ],
      "metadata": {
        "id": "FWXLfzgJQsI2",
        "outputId": "d4cf0d55-270e-4c62-ca4c-1e8719252e6a",
        "colab": {
          "base_uri": "https://localhost:8080/"
        }
      },
      "execution_count": null,
      "outputs": [
        {
          "output_type": "stream",
          "name": "stdout",
          "text": [
            "[2, 4]\n"
          ]
        }
      ]
    },
    {
      "cell_type": "markdown",
      "source": [
        "Task 11 String Anagrams\n",
        "\n",
        "Given two strings, create a function to detect if they are anagrams.\n",
        "An anagram is a word, phrase, or name formed by rearranging the letters of another, such\n",
        "as cinema, formed from iceman."
      ],
      "metadata": {
        "id": "RJkh3wQfuQKB"
      }
    },
    {
      "cell_type": "code",
      "source": [
        "#task11\n",
        "def list_intersection(list1, list2):\n",
        "\n",
        "    common_elements = list(set(list1) & set(list2))\n",
        "    return common_elements\n",
        "\n",
        "\n",
        "list1 = [1, 2, 2, 3, 4]\n",
        "list2 = [2, 4, 4, 5, 6]\n",
        "print(list_intersection(list1, list2))"
      ],
      "metadata": {
        "id": "APlZiKpaQsLf",
        "outputId": "3845a621-bc6a-4c19-de6b-79b5dda03ed8",
        "colab": {
          "base_uri": "https://localhost:8080/"
        }
      },
      "execution_count": null,
      "outputs": [
        {
          "output_type": "stream",
          "name": "stdout",
          "text": [
            "[2, 4]\n"
          ]
        }
      ]
    },
    {
      "cell_type": "markdown",
      "source": [
        "Task 12 Binary Search\n",
        "\n",
        "Given a sorted list of integers, create a function to perform binary\n",
        "search on the list and return the index of the target element. If the target element is not\n",
        "found, return -1."
      ],
      "metadata": {
        "id": "zr1Pzhfsu1tB"
      }
    },
    {
      "cell_type": "code",
      "source": [
        "#task12\n",
        "def binary_search(sorted_list, target):\n",
        "    left, right = 0, len(sorted_list) - 1\n",
        "\n",
        "    while left <= right:\n",
        "        mid = (left + right) // 2\n",
        "\n",
        "        if sorted_list[mid] == target:\n",
        "            return mid\n",
        "        elif sorted_list[mid] < target:\n",
        "            left = mid + 1\n",
        "        else:\n",
        "            right = mid - 1\n",
        "\n",
        "    return -1\n",
        "\n",
        "\n",
        "sorted_list = [1, 2, 3, 4, 5, 6, 7, 8, 9]\n",
        "print(binary_search(sorted_list, 5))\n",
        "print(binary_search(sorted_list, 10))\n"
      ],
      "metadata": {
        "id": "B0gUVJTgQsPC",
        "outputId": "06d3a034-f136-494a-834e-2ccfa5121166",
        "colab": {
          "base_uri": "https://localhost:8080/"
        }
      },
      "execution_count": null,
      "outputs": [
        {
          "output_type": "stream",
          "name": "stdout",
          "text": [
            "4\n",
            "-1\n"
          ]
        }
      ]
    },
    {
      "cell_type": "markdown",
      "source": [
        "Task 13 Merge Sort\n",
        "\n",
        "Given a list of integers, create a function to sort the list using the\n",
        "merge sort algorithm. The merge sort algorithm is a recursive sorting algorithm that\n",
        "works by breaking down the list into smaller sub-lists and then recombining them in a\n",
        "sorted manner."
      ],
      "metadata": {
        "id": "gjV_2uqPu5KY"
      }
    },
    {
      "cell_type": "code",
      "source": [
        "#task13\n",
        "def merge_sort(lst):\n",
        "    if len(lst) <= 1:\n",
        "        return lst\n",
        "\n",
        "\n",
        "    mid = len(lst) // 2\n",
        "    left_half = lst[:mid]\n",
        "    right_half = lst[mid:]\n",
        "\n",
        "    left_sorted = merge_sort(left_half)\n",
        "    right_sorted = merge_sort(right_half)\n",
        "\n",
        "\n",
        "    return merge(left_sorted, right_sorted)\n",
        "\n",
        "def merge(left, right):\n",
        "    sorted_list = []\n",
        "    left_index, right_index = 0, 0\n",
        "\n",
        "    while left_index < len(left) and right_index < len(right):\n",
        "        if left[left_index] < right[right_index]:\n",
        "            sorted_list.append(left[left_index])\n",
        "            left_index += 1"
      ],
      "metadata": {
        "id": "Lm6CmcAAQ2xI"
      },
      "execution_count": null,
      "outputs": []
    },
    {
      "cell_type": "markdown",
      "source": [
        "14 Quick Sort\n",
        "\n",
        "Given a list of integers, create a function to sort the list using the\n",
        "quick sort algorithm. The quick sort algorithm is a recursive sorting algorithm that selects\n",
        "a pivot element from the list and then partitions the other elements into two sub-lists,\n",
        "according to whether they are less than or greater than the pivot."
      ],
      "metadata": {
        "id": "J4xiJm9Yvc7J"
      }
    },
    {
      "cell_type": "code",
      "source": [
        "#task14\n",
        "def quick_sort(lst):\n",
        "    if len(lst) <= 1:\n",
        "        return lst\n",
        "\n",
        "\n",
        "    pivot = lst[-1]\n",
        "    left = [x for x in lst[:-1] if x <= pivot]\n",
        "    right = [x for x in lst[:-1] if x > pivot]\n",
        "\n",
        "\n",
        "    return quick_sort(left) + [pivot] + quick_sort(right)\n",
        "\n",
        "\n",
        "unsorted_list = [38, 27, 43, 3, 9, 82, 10]\n",
        "sorted_list = quick_sort(unsorted_list)\n",
        "print(sorted_list)\n"
      ],
      "metadata": {
        "id": "ge1DXyfBQ2-H",
        "outputId": "55ce0934-0896-453c-a349-2920951a2619",
        "colab": {
          "base_uri": "https://localhost:8080/"
        }
      },
      "execution_count": null,
      "outputs": [
        {
          "output_type": "stream",
          "name": "stdout",
          "text": [
            "[3, 9, 10, 27, 38, 43, 82]\n"
          ]
        }
      ]
    },
    {
      "cell_type": "markdown",
      "source": [
        "15 Frequency Counter\n",
        "\n",
        "Given a list of integers, create a function to return a dictionary\n",
        "that contains the frequency count of each element in the list. For example, the list [1, 2, 2,\n",
        "3, 4, 2] would return {1:1, 2:3, 3:1, 4:1}."
      ],
      "metadata": {
        "id": "4gg2X9wTvpZA"
      }
    },
    {
      "cell_type": "code",
      "source": [
        "#task15\n",
        "def frequency_counter(lst):\n",
        "    frequency_dict = {}\n",
        "\n",
        "\n",
        "    for num in lst:\n",
        "\n",
        "        if num in frequency_dict:\n",
        "            frequency_dict[num] += 1\n",
        "\n",
        "        else:\n",
        "            frequency_dict[num] = 1\n",
        "\n",
        "    return frequency_dict\n",
        "\n",
        "input_list = [1, 2, 2, 3, 4, 2]\n",
        "print(frequency_counter(input_list))\n"
      ],
      "metadata": {
        "id": "IUn6rf5eQ3Jf",
        "outputId": "60e805b2-227b-4398-d106-a20b677f3e83",
        "colab": {
          "base_uri": "https://localhost:8080/"
        }
      },
      "execution_count": null,
      "outputs": [
        {
          "output_type": "stream",
          "name": "stdout",
          "text": [
            "{1: 1, 2: 3, 3: 1, 4: 1}\n"
          ]
        }
      ]
    },
    {
      "cell_type": "markdown",
      "source": [
        "16 Count Distinct Elements\n",
        "\n",
        "Given a list of integers, create a function to return the count of\n",
        "distinct elements in the list. For example, the list [1, 2, 2, 3, 4, 2] would return 4."
      ],
      "metadata": {
        "id": "hmcCH2_Yv10w"
      }
    },
    {
      "cell_type": "code",
      "source": [
        "#task16\n",
        "def count_distinct_elements(lst):\n",
        "    distinct_elements = set(lst)\n",
        "    return len(distinct_elements)\n",
        "\n",
        "input_list = [1, 2, 2, 3, 4, 2]\n",
        "print(count_distinct_elements(input_list))"
      ],
      "metadata": {
        "id": "eHtL19d6Q3R_",
        "outputId": "9e2f2641-de55-4148-ba1a-35ca27ca7e04",
        "colab": {
          "base_uri": "https://localhost:8080/"
        }
      },
      "execution_count": null,
      "outputs": [
        {
          "output_type": "stream",
          "name": "stdout",
          "text": [
            "4\n"
          ]
        }
      ]
    },
    {
      "cell_type": "markdown",
      "source": [
        "17 Union and Intersection of Sets\n",
        "Given two sets of integers, create a function to return the union\n",
        "and intersection of the sets as a tuple of two sets. The union is the set of elements that\n",
        "appear in either set, while the intersection is the set of elements that appear in both sets."
      ],
      "metadata": {
        "id": "xHm3oJP_v8Ix"
      }
    },
    {
      "cell_type": "code",
      "source": [
        "#task17\n",
        "def union_and_intersection(set1, set2):\n",
        "\n",
        "    union_set = set1 | set2\n",
        "\n",
        "    intersection_set = set1 & set2\n",
        "    return (union_set, intersection_set)\n",
        "\n",
        "set1 = {1, 2, 3, 4}\n",
        "set2 = {3, 4, 5, 6}\n",
        "result = union_and_intersection(set1, set2)\n",
        "print(\"Union:\", result[0])\n",
        "print(\"Intersection:\", result[1])\n"
      ],
      "metadata": {
        "id": "NEutgM_CQ3Zv",
        "outputId": "f3c9fa29-01ec-4291-bd76-23ebd49a70ad",
        "colab": {
          "base_uri": "https://localhost:8080/"
        }
      },
      "execution_count": null,
      "outputs": [
        {
          "output_type": "stream",
          "name": "stdout",
          "text": [
            "Union: {1, 2, 3, 4, 5, 6}\n",
            "Intersection: {3, 4}\n"
          ]
        }
      ]
    },
    {
      "cell_type": "markdown",
      "source": [
        "18 Unique values in a dictionary\n",
        "\n",
        "Given a dictionary, return a list of all the values in the dictionary,\n",
        "\n",
        "but without any duplicates."
      ],
      "metadata": {
        "id": "w4DfSfr5wFh_"
      }
    },
    {
      "cell_type": "code",
      "source": [
        "#task18\n",
        "def unique_values(dictionary):\n",
        "    unique_vals = set(dictionary.values())\n",
        "    return list(unique_vals)\n",
        "\n",
        "sample_dict = {\"a\": 1, \"b\": 2, \"c\": 1, \"d\": 3, \"e\": 2}\n",
        "print(unique_values(sample_dict))\n"
      ],
      "metadata": {
        "id": "wZlKi6v7Q3hE",
        "outputId": "32a4f8bd-fa31-4766-d42c-38a30e722345",
        "colab": {
          "base_uri": "https://localhost:8080/"
        }
      },
      "execution_count": null,
      "outputs": [
        {
          "output_type": "stream",
          "name": "stdout",
          "text": [
            "[1, 2, 3]\n"
          ]
        }
      ]
    },
    {
      "cell_type": "markdown",
      "source": [
        "Task 19 Most common values in a dictionary\n",
        "\n",
        "Given a dictionary, return the key(s) of the value(s) that appear\n",
        "\n",
        "most often. If there is a tie, return all keys."
      ],
      "metadata": {
        "id": "b9NDHiRtwT6H"
      }
    },
    {
      "cell_type": "code",
      "source": [
        "#task19\n",
        "from collections import Counter\n",
        "\n",
        "def most_common_values(dictionary):\n",
        "    value_counts = Counter(dictionary.values())\n",
        "    max_frequency = max(value_counts.values())\n",
        "    most_common_keys = [key for key, value in dictionary.items() if value_counts[value] == max_frequency]\n",
        "    return most_common_keys\n",
        "\n",
        "sample_dict = {\"a\": 1, \"b\": 2, \"c\": 1, \"d\": 3, \"e\": 2}\n",
        "print(most_common_values(sample_dict))"
      ],
      "metadata": {
        "id": "DnQo3v8yQ3nh",
        "outputId": "e55947da-46ba-4736-8b9e-082555bbe5d4",
        "colab": {
          "base_uri": "https://localhost:8080/"
        }
      },
      "execution_count": null,
      "outputs": [
        {
          "output_type": "stream",
          "name": "stdout",
          "text": [
            "['a', 'b', 'c', 'e']\n"
          ]
        }
      ]
    },
    {
      "cell_type": "markdown",
      "source": [
        "20 Combine dictionaries\n",
        "\n",
        "Given two dictionaries d1 and d2, return a new dictionary which\n",
        "contains all the keys and values from d1 and d2. If a key is in both dictionaries, the value\n",
        "from d1 takes precedence."
      ],
      "metadata": {
        "id": "a4t5j5j0xnew"
      }
    },
    {
      "cell_type": "code",
      "source": [
        "#task20\n",
        "def combine_dictionaries(d1, d2):\n",
        "    combined_dict = d2.copy()\n",
        "    combined_dict.update(d1)\n",
        "    return combined_dict\n",
        "\n",
        "d1 = {\"a\": 1, \"b\": 2, \"c\": 3}\n",
        "d2 = {\"b\": 4, \"c\": 5, \"d\": 6}\n",
        "combined = combine_dictionaries(d1, d2)\n",
        "print(combined)"
      ],
      "metadata": {
        "id": "DC8w9R4mQ3um",
        "outputId": "3cfb65f5-2925-4be0-d48b-f81ce3cb6743",
        "colab": {
          "base_uri": "https://localhost:8080/"
        }
      },
      "execution_count": null,
      "outputs": [
        {
          "output_type": "stream",
          "name": "stdout",
          "text": [
            "{'b': 2, 'c': 3, 'd': 6, 'a': 1}\n"
          ]
        }
      ]
    },
    {
      "cell_type": "markdown",
      "source": [
        "21 Filter list of dictionaries (5 Marks)\n",
        "\n",
        "Given a list of dictionaries and a key, return a new list that\n",
        "\n",
        "contains only the dictionaries that have the given key."
      ],
      "metadata": {
        "id": "l6v6tXgnwkWA"
      }
    },
    {
      "cell_type": "code",
      "source": [
        "#task21\n",
        "def filter_dicts_by_key(dict_list, key):\n",
        "\n",
        "    filtered_list = [d for d in dict_list if key in d]\n",
        "    return filtered_list\n",
        "\n",
        "\n",
        "dict_list = [\n",
        "    {\"name\": \"Alice\", \"age\": 25},\n",
        "    {\"name\": \"Bob\", \"city\": \"New York\"},\n",
        "    {\"name\": \"Charlie\", \"age\": 30, \"city\": \"San Francisco\"},\n",
        "    {\"city\": \"Los Angeles\"}\n",
        "]\n",
        "key = \"age\"\n",
        "filtered_dicts = filter_dicts_by_key(dict_list, key)\n",
        "print(filtered_dicts)\n"
      ],
      "metadata": {
        "id": "kqzcZcQ6Q32p",
        "outputId": "17203a8c-650e-4922-eb1c-cca51429a261",
        "colab": {
          "base_uri": "https://localhost:8080/"
        }
      },
      "execution_count": null,
      "outputs": [
        {
          "output_type": "stream",
          "name": "stdout",
          "text": [
            "[{'name': 'Alice', 'age': 25}, {'name': 'Charlie', 'age': 30, 'city': 'San Francisco'}]\n"
          ]
        }
      ]
    },
    {
      "cell_type": "markdown",
      "source": [
        "22 Find duplicates in a list\n",
        "\n",
        "Given a list, return the elements that are duplicated in the list. The\n",
        "returned list should only contain the duplicated elements, without any duplicates."
      ],
      "metadata": {
        "id": "1rla6g7Dwr0B"
      }
    },
    {
      "cell_type": "code",
      "source": [
        "#task22\n",
        "def find_duplicates(lst):\n",
        "\n",
        "    frequency = {}\n",
        "    for item in lst:\n",
        "        if item in frequency:\n",
        "            frequency[item] += 1\n",
        "        else:\n",
        "            frequency[item] = 1\n",
        "\n",
        "    duplicates = [item for item, count in frequency.items() if count > 1]\n",
        "\n",
        "    return duplicates\n",
        "\n",
        "input_list = [1, 2, 2, 3, 4, 4, 5, 6, 6, 6]\n",
        "print(find_duplicates(input_list))\n"
      ],
      "metadata": {
        "id": "196yzmRZQ3-W",
        "outputId": "dd4e8a59-b0f9-4b7a-c449-cd2e5911430b",
        "colab": {
          "base_uri": "https://localhost:8080/"
        }
      },
      "execution_count": null,
      "outputs": [
        {
          "output_type": "stream",
          "name": "stdout",
          "text": [
            "[2, 4, 6]\n"
          ]
        }
      ]
    }
  ]
}